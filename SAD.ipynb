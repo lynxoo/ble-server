{
  "nbformat": 4,
  "nbformat_minor": 0,
  "metadata": {
    "colab": {
      "name": "SAD.ipynb",
      "provenance": [],
      "collapsed_sections": [],
      "include_colab_link": true
    },
    "kernelspec": {
      "name": "python3",
      "display_name": "Python 3"
    }
  },
  "cells": [
    {
      "cell_type": "markdown",
      "metadata": {
        "id": "view-in-github",
        "colab_type": "text"
      },
      "source": [
        "<a href=\"https://colab.research.google.com/github/lynxoo/ble-server/blob/master/SAD.ipynb\" target=\"_parent\"><img src=\"https://colab.research.google.com/assets/colab-badge.svg\" alt=\"Open In Colab\"/></a>"
      ]
    },
    {
      "cell_type": "markdown",
      "metadata": {
        "id": "MGTvba5PhXz5",
        "colab_type": "text"
      },
      "source": [
        "# Statystyczna Analiza Danych\n",
        "## Analiza Szkockich Whisky\n",
        "\n",
        "Autorzy projektu:\n",
        "* Łukasz Fąfara\n",
        "* Artur Malarz"
      ]
    },
    {
      "cell_type": "code",
      "metadata": {
        "id": "0P3VgjGxONEb",
        "colab_type": "code",
        "colab": {}
      },
      "source": [
        "import pandas as pd\n",
        "scotch = pd.read_csv(r'https://github.com/lynxoo/ue-wroc-sad/raw/master/scotch_review.csv')"
      ],
      "execution_count": 0,
      "outputs": []
    },
    {
      "cell_type": "code",
      "metadata": {
        "id": "YXrVXYcRgV0J",
        "colab_type": "code",
        "outputId": "a04db6a9-ac50-4452-8b58-3bc04130123d",
        "colab": {
          "base_uri": "https://localhost:8080/",
          "height": 204
        }
      },
      "source": [
        "scotch.head(5)"
      ],
      "execution_count": 3,
      "outputs": [
        {
          "output_type": "execute_result",
          "data": {
            "text/html": [
              "<div>\n",
              "<style scoped>\n",
              "    .dataframe tbody tr th:only-of-type {\n",
              "        vertical-align: middle;\n",
              "    }\n",
              "\n",
              "    .dataframe tbody tr th {\n",
              "        vertical-align: top;\n",
              "    }\n",
              "\n",
              "    .dataframe thead th {\n",
              "        text-align: right;\n",
              "    }\n",
              "</style>\n",
              "<table border=\"1\" class=\"dataframe\">\n",
              "  <thead>\n",
              "    <tr style=\"text-align: right;\">\n",
              "      <th></th>\n",
              "      <th>Unnamed: 0</th>\n",
              "      <th>name</th>\n",
              "      <th>category</th>\n",
              "      <th>review.point</th>\n",
              "      <th>price</th>\n",
              "      <th>currency</th>\n",
              "      <th>description</th>\n",
              "    </tr>\n",
              "  </thead>\n",
              "  <tbody>\n",
              "    <tr>\n",
              "      <th>0</th>\n",
              "      <td>1</td>\n",
              "      <td>Johnnie Walker Blue Label, 40%</td>\n",
              "      <td>Blended Scotch Whisky</td>\n",
              "      <td>97</td>\n",
              "      <td>225</td>\n",
              "      <td>$</td>\n",
              "      <td>Magnificently powerful and intense. Caramels, ...</td>\n",
              "    </tr>\n",
              "    <tr>\n",
              "      <th>1</th>\n",
              "      <td>2</td>\n",
              "      <td>Black Bowmore, 1964 vintage, 42 year old, 40.5%</td>\n",
              "      <td>Single Malt Scotch</td>\n",
              "      <td>97</td>\n",
              "      <td>4500.00</td>\n",
              "      <td>$</td>\n",
              "      <td>What impresses me most is how this whisky evol...</td>\n",
              "    </tr>\n",
              "    <tr>\n",
              "      <th>2</th>\n",
              "      <td>3</td>\n",
              "      <td>Bowmore 46 year old (distilled 1964), 42.9%</td>\n",
              "      <td>Single Malt Scotch</td>\n",
              "      <td>97</td>\n",
              "      <td>13500.00</td>\n",
              "      <td>$</td>\n",
              "      <td>There have been some legendary Bowmores from t...</td>\n",
              "    </tr>\n",
              "    <tr>\n",
              "      <th>3</th>\n",
              "      <td>4</td>\n",
              "      <td>Compass Box The General, 53.4%</td>\n",
              "      <td>Blended Malt Scotch Whisky</td>\n",
              "      <td>96</td>\n",
              "      <td>325</td>\n",
              "      <td>$</td>\n",
              "      <td>With a name inspired by a 1926 Buster Keaton m...</td>\n",
              "    </tr>\n",
              "    <tr>\n",
              "      <th>4</th>\n",
              "      <td>5</td>\n",
              "      <td>Chivas Regal Ultis, 40%</td>\n",
              "      <td>Blended Malt Scotch Whisky</td>\n",
              "      <td>96</td>\n",
              "      <td>160</td>\n",
              "      <td>$</td>\n",
              "      <td>Captivating, enticing, and wonderfully charmin...</td>\n",
              "    </tr>\n",
              "  </tbody>\n",
              "</table>\n",
              "</div>"
            ],
            "text/plain": [
              "   Unnamed: 0  ...                                        description\n",
              "0           1  ...  Magnificently powerful and intense. Caramels, ...\n",
              "1           2  ...  What impresses me most is how this whisky evol...\n",
              "2           3  ...  There have been some legendary Bowmores from t...\n",
              "3           4  ...  With a name inspired by a 1926 Buster Keaton m...\n",
              "4           5  ...  Captivating, enticing, and wonderfully charmin...\n",
              "\n",
              "[5 rows x 7 columns]"
            ]
          },
          "metadata": {
            "tags": []
          },
          "execution_count": 3
        }
      ]
    },
    {
      "cell_type": "code",
      "metadata": {
        "id": "EIgcu9RWgbYy",
        "colab_type": "code",
        "outputId": "31fb551d-98d7-406f-9fb6-a2ad1473d75e",
        "colab": {
          "base_uri": "https://localhost:8080/",
          "height": 204
        }
      },
      "source": [
        "scotch.drop(['currency', 'Unnamed: 0', 'description'], axis=1, inplace=True)\n",
        "scotch.head(5)"
      ],
      "execution_count": 4,
      "outputs": [
        {
          "output_type": "execute_result",
          "data": {
            "text/html": [
              "<div>\n",
              "<style scoped>\n",
              "    .dataframe tbody tr th:only-of-type {\n",
              "        vertical-align: middle;\n",
              "    }\n",
              "\n",
              "    .dataframe tbody tr th {\n",
              "        vertical-align: top;\n",
              "    }\n",
              "\n",
              "    .dataframe thead th {\n",
              "        text-align: right;\n",
              "    }\n",
              "</style>\n",
              "<table border=\"1\" class=\"dataframe\">\n",
              "  <thead>\n",
              "    <tr style=\"text-align: right;\">\n",
              "      <th></th>\n",
              "      <th>name</th>\n",
              "      <th>category</th>\n",
              "      <th>review.point</th>\n",
              "      <th>price</th>\n",
              "    </tr>\n",
              "  </thead>\n",
              "  <tbody>\n",
              "    <tr>\n",
              "      <th>0</th>\n",
              "      <td>Johnnie Walker Blue Label, 40%</td>\n",
              "      <td>Blended Scotch Whisky</td>\n",
              "      <td>97</td>\n",
              "      <td>225</td>\n",
              "    </tr>\n",
              "    <tr>\n",
              "      <th>1</th>\n",
              "      <td>Black Bowmore, 1964 vintage, 42 year old, 40.5%</td>\n",
              "      <td>Single Malt Scotch</td>\n",
              "      <td>97</td>\n",
              "      <td>4500.00</td>\n",
              "    </tr>\n",
              "    <tr>\n",
              "      <th>2</th>\n",
              "      <td>Bowmore 46 year old (distilled 1964), 42.9%</td>\n",
              "      <td>Single Malt Scotch</td>\n",
              "      <td>97</td>\n",
              "      <td>13500.00</td>\n",
              "    </tr>\n",
              "    <tr>\n",
              "      <th>3</th>\n",
              "      <td>Compass Box The General, 53.4%</td>\n",
              "      <td>Blended Malt Scotch Whisky</td>\n",
              "      <td>96</td>\n",
              "      <td>325</td>\n",
              "    </tr>\n",
              "    <tr>\n",
              "      <th>4</th>\n",
              "      <td>Chivas Regal Ultis, 40%</td>\n",
              "      <td>Blended Malt Scotch Whisky</td>\n",
              "      <td>96</td>\n",
              "      <td>160</td>\n",
              "    </tr>\n",
              "  </tbody>\n",
              "</table>\n",
              "</div>"
            ],
            "text/plain": [
              "                                              name  ...     price\n",
              "0                   Johnnie Walker Blue Label, 40%  ...       225\n",
              "1  Black Bowmore, 1964 vintage, 42 year old, 40.5%  ...   4500.00\n",
              "2      Bowmore 46 year old (distilled 1964), 42.9%  ...  13500.00\n",
              "3                   Compass Box The General, 53.4%  ...       325\n",
              "4                          Chivas Regal Ultis, 40%  ...       160\n",
              "\n",
              "[5 rows x 4 columns]"
            ]
          },
          "metadata": {
            "tags": []
          },
          "execution_count": 4
        }
      ]
    },
    {
      "cell_type": "code",
      "metadata": {
        "id": "9lhXTjvRotY8",
        "colab_type": "code",
        "colab": {
          "base_uri": "https://localhost:8080/",
          "height": 204
        },
        "outputId": "9a236ad8-9a86-46d9-b1ca-5f42411125b7"
      },
      "source": [
        "scotch_copy = scotch\n",
        "\n",
        "import re\n",
        "def parse_alcohol(text):\n",
        "  matches = re.search(r\"(\\d*)%\", str(text))\n",
        "  return float(matches.group(1)) if matches else None\n",
        "\n",
        "scotch_copy['abv'] = scotch_copy.apply(lambda row: parse_alcohol(row.name), axis=1)\n",
        "scotch_copy.head(5)"
      ],
      "execution_count": 14,
      "outputs": [
        {
          "output_type": "execute_result",
          "data": {
            "text/html": [
              "<div>\n",
              "<style scoped>\n",
              "    .dataframe tbody tr th:only-of-type {\n",
              "        vertical-align: middle;\n",
              "    }\n",
              "\n",
              "    .dataframe tbody tr th {\n",
              "        vertical-align: top;\n",
              "    }\n",
              "\n",
              "    .dataframe thead th {\n",
              "        text-align: right;\n",
              "    }\n",
              "</style>\n",
              "<table border=\"1\" class=\"dataframe\">\n",
              "  <thead>\n",
              "    <tr style=\"text-align: right;\">\n",
              "      <th></th>\n",
              "      <th>name</th>\n",
              "      <th>category</th>\n",
              "      <th>review.point</th>\n",
              "      <th>price</th>\n",
              "      <th>abv</th>\n",
              "    </tr>\n",
              "  </thead>\n",
              "  <tbody>\n",
              "    <tr>\n",
              "      <th>0</th>\n",
              "      <td>Johnnie Walker Blue Label, 40%</td>\n",
              "      <td>Blended Scotch Whisky</td>\n",
              "      <td>97</td>\n",
              "      <td>225</td>\n",
              "      <td>None</td>\n",
              "    </tr>\n",
              "    <tr>\n",
              "      <th>1</th>\n",
              "      <td>Black Bowmore, 1964 vintage, 42 year old, 40.5%</td>\n",
              "      <td>Single Malt Scotch</td>\n",
              "      <td>97</td>\n",
              "      <td>4500.00</td>\n",
              "      <td>None</td>\n",
              "    </tr>\n",
              "    <tr>\n",
              "      <th>2</th>\n",
              "      <td>Bowmore 46 year old (distilled 1964), 42.9%</td>\n",
              "      <td>Single Malt Scotch</td>\n",
              "      <td>97</td>\n",
              "      <td>13500.00</td>\n",
              "      <td>None</td>\n",
              "    </tr>\n",
              "    <tr>\n",
              "      <th>3</th>\n",
              "      <td>Compass Box The General, 53.4%</td>\n",
              "      <td>Blended Malt Scotch Whisky</td>\n",
              "      <td>96</td>\n",
              "      <td>325</td>\n",
              "      <td>None</td>\n",
              "    </tr>\n",
              "    <tr>\n",
              "      <th>4</th>\n",
              "      <td>Chivas Regal Ultis, 40%</td>\n",
              "      <td>Blended Malt Scotch Whisky</td>\n",
              "      <td>96</td>\n",
              "      <td>160</td>\n",
              "      <td>None</td>\n",
              "    </tr>\n",
              "  </tbody>\n",
              "</table>\n",
              "</div>"
            ],
            "text/plain": [
              "                                              name  ...   abv\n",
              "0                   Johnnie Walker Blue Label, 40%  ...  None\n",
              "1  Black Bowmore, 1964 vintage, 42 year old, 40.5%  ...  None\n",
              "2      Bowmore 46 year old (distilled 1964), 42.9%  ...  None\n",
              "3                   Compass Box The General, 53.4%  ...  None\n",
              "4                          Chivas Regal Ultis, 40%  ...  None\n",
              "\n",
              "[5 rows x 5 columns]"
            ]
          },
          "metadata": {
            "tags": []
          },
          "execution_count": 14
        }
      ]
    },
    {
      "cell_type": "markdown",
      "metadata": {
        "id": "fA901UZfraP9",
        "colab_type": "text"
      },
      "source": [
        ""
      ]
    }
  ]
}